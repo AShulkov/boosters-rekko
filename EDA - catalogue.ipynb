{
 "cells": [
  {
   "cell_type": "code",
   "execution_count": 57,
   "metadata": {},
   "outputs": [],
   "source": [
    "import os\n",
    "import json\n",
    "import pandas as pd\n",
    "import numpy as np\n",
    "\n",
    "from pprint import pprint\n",
    "\n",
    "pd.set_option('display.max_colwidth', 100)\n",
    "%matplotlib inline\n",
    "\n",
    "DATA_PATH = './'"
   ]
  },
  {
   "cell_type": "code",
   "execution_count": 30,
   "metadata": {},
   "outputs": [],
   "source": [
    "with open(os.path.join(DATA_PATH, 'catalogue.json'), 'r') as f:\n",
    "    catalogue = json.load(f)\n",
    "    \n",
    "catalogue = {int(k): v for k, v in catalogue.items()}"
   ]
  },
  {
   "cell_type": "code",
   "execution_count": 41,
   "metadata": {},
   "outputs": [
    {
     "name": "stdout",
     "output_type": "stream",
     "text": [
      "(10200, 9)\n",
      "CPU times: user 3.26 s, sys: 3.96 ms, total: 3.27 s\n",
      "Wall time: 3.28 s\n"
     ]
    }
   ],
   "source": [
    "%%time\n",
    "df_catalogue = pd.read_json(\n",
    "    os.path.join(DATA_PATH, 'catalogue.json'), orient = 'index', typ = 'frame',\n",
    ")\n",
    "print(df_catalogue.shape)"
   ]
  },
  {
   "cell_type": "code",
   "execution_count": 50,
   "metadata": {},
   "outputs": [
    {
     "data": {
      "text/html": [
       "<div>\n",
       "<style scoped>\n",
       "    .dataframe tbody tr th:only-of-type {\n",
       "        vertical-align: middle;\n",
       "    }\n",
       "\n",
       "    .dataframe tbody tr th {\n",
       "        vertical-align: top;\n",
       "    }\n",
       "\n",
       "    .dataframe thead th {\n",
       "        text-align: right;\n",
       "    }\n",
       "</style>\n",
       "<table border=\"1\" class=\"dataframe\">\n",
       "  <thead>\n",
       "    <tr style=\"text-align: right;\">\n",
       "      <th></th>\n",
       "      <th>attributes</th>\n",
       "      <th>availability</th>\n",
       "      <th>duration</th>\n",
       "      <th>feature_1</th>\n",
       "      <th>feature_2</th>\n",
       "      <th>feature_3</th>\n",
       "      <th>feature_4</th>\n",
       "      <th>feature_5</th>\n",
       "      <th>type</th>\n",
       "    </tr>\n",
       "  </thead>\n",
       "  <tbody>\n",
       "    <tr>\n",
       "      <th>0</th>\n",
       "      <td>[31115, 6713, 10906, 31116, 31117, 270, 24431, 42, 31118, 31119]</td>\n",
       "      <td>[]</td>\n",
       "      <td>80</td>\n",
       "      <td>2.912198e+07</td>\n",
       "      <td>0.575260</td>\n",
       "      <td>0</td>\n",
       "      <td>1.128332</td>\n",
       "      <td>0.654707</td>\n",
       "      <td>movie</td>\n",
       "    </tr>\n",
       "    <tr>\n",
       "      <th>1</th>\n",
       "      <td>[2786, 385, 2799, 3730, 886, 7, 11700, 42, 20, 388, 1934]</td>\n",
       "      <td>[purchase, rent]</td>\n",
       "      <td>120</td>\n",
       "      <td>6.610431e+06</td>\n",
       "      <td>0.773224</td>\n",
       "      <td>3</td>\n",
       "      <td>1.112014</td>\n",
       "      <td>0.654707</td>\n",
       "      <td>movie</td>\n",
       "    </tr>\n",
       "    <tr>\n",
       "      <th>10</th>\n",
       "      <td>[10511, 2752, 9076, 1373, 472, 7, 10512, 42, 43, 10513, 25]</td>\n",
       "      <td>[]</td>\n",
       "      <td>100</td>\n",
       "      <td>1.666610e+07</td>\n",
       "      <td>0.700997</td>\n",
       "      <td>0</td>\n",
       "      <td>1.130076</td>\n",
       "      <td>0.654707</td>\n",
       "      <td>movie</td>\n",
       "    </tr>\n",
       "    <tr>\n",
       "      <th>100</th>\n",
       "      <td>[18441, 16300, 16580, 18770, 18771, 18643, 396, 18772, 3771, 18773, 910, 18774, 16364, 3277]</td>\n",
       "      <td>[purchase, rent]</td>\n",
       "      <td>80</td>\n",
       "      <td>6.064739e+06</td>\n",
       "      <td>0.752751</td>\n",
       "      <td>4</td>\n",
       "      <td>0.953710</td>\n",
       "      <td>0.000000</td>\n",
       "      <td>movie</td>\n",
       "    </tr>\n",
       "    <tr>\n",
       "      <th>1000</th>\n",
       "      <td>[1256, 441, 19806, 15224, 16708, 83, 336, 19807, 85, 54, 19808, 19809]</td>\n",
       "      <td>[]</td>\n",
       "      <td>80</td>\n",
       "      <td>9.115019e+06</td>\n",
       "      <td>0.689883</td>\n",
       "      <td>0</td>\n",
       "      <td>1.128332</td>\n",
       "      <td>0.680410</td>\n",
       "      <td>movie</td>\n",
       "    </tr>\n",
       "  </tbody>\n",
       "</table>\n",
       "</div>"
      ],
      "text/plain": [
       "                                                                                        attributes  \\\n",
       "0                                 [31115, 6713, 10906, 31116, 31117, 270, 24431, 42, 31118, 31119]   \n",
       "1                                        [2786, 385, 2799, 3730, 886, 7, 11700, 42, 20, 388, 1934]   \n",
       "10                                     [10511, 2752, 9076, 1373, 472, 7, 10512, 42, 43, 10513, 25]   \n",
       "100   [18441, 16300, 16580, 18770, 18771, 18643, 396, 18772, 3771, 18773, 910, 18774, 16364, 3277]   \n",
       "1000                        [1256, 441, 19806, 15224, 16708, 83, 336, 19807, 85, 54, 19808, 19809]   \n",
       "\n",
       "          availability  duration     feature_1  feature_2  feature_3  \\\n",
       "0                   []        80  2.912198e+07   0.575260          0   \n",
       "1     [purchase, rent]       120  6.610431e+06   0.773224          3   \n",
       "10                  []       100  1.666610e+07   0.700997          0   \n",
       "100   [purchase, rent]        80  6.064739e+06   0.752751          4   \n",
       "1000                []        80  9.115019e+06   0.689883          0   \n",
       "\n",
       "      feature_4  feature_5   type  \n",
       "0      1.128332   0.654707  movie  \n",
       "1      1.112014   0.654707  movie  \n",
       "10     1.130076   0.654707  movie  \n",
       "100    0.953710   0.000000  movie  \n",
       "1000   1.128332   0.680410  movie  "
      ]
     },
     "execution_count": 50,
     "metadata": {},
     "output_type": "execute_result"
    }
   ],
   "source": [
    "df_catalogue.head()"
   ]
  },
  {
   "cell_type": "code",
   "execution_count": 52,
   "metadata": {},
   "outputs": [
    {
     "data": {
      "text/plain": [
       "movie              9042\n",
       "series              907\n",
       "multipart_movie     251\n",
       "Name: type, dtype: int64"
      ]
     },
     "execution_count": 52,
     "metadata": {},
     "output_type": "execute_result"
    }
   ],
   "source": [
    "df_catalogue.type.value_counts()"
   ]
  },
  {
   "cell_type": "code",
   "execution_count": 58,
   "metadata": {},
   "outputs": [
    {
     "data": {
      "image/png": "[encoded data removed]",
      "text/plain": [
       "<Figure size 432x288 with 1 Axes>"
      ]
     },
     "metadata": {
      "needs_background": "light"
     },
     "output_type": "display_data"
    }
   ],
   "source": [
    "df_catalogue.feature_1.hist(bins = 40);"
   ]
  },
  {
   "cell_type": "code",
   "execution_count": 59,
   "metadata": {},
   "outputs": [
    {
     "data": {
      "image/png": "[encoded data removed]",
      "text/plain": [
       "<Figure size 432x288 with 1 Axes>"
      ]
     },
     "metadata": {
      "needs_background": "light"
     },
     "output_type": "display_data"
    }
   ],
   "source": [
    "df_catalogue.feature_2.hist(bins = 40);"
   ]
  },
  {
   "cell_type": "code",
   "execution_count": 60,
   "metadata": {},
   "outputs": [
    {
     "data": {
      "image/png": "[encoded data removed]",
      "text/plain": [
       "<Figure size 432x288 with 1 Axes>"
      ]
     },
     "metadata": {
      "needs_background": "light"
     },
     "output_type": "display_data"
    }
   ],
   "source": [
    "df_catalogue.feature_3.hist(bins = 40);"
   ]
  },
  {
   "cell_type": "code",
   "execution_count": 61,
   "metadata": {},
   "outputs": [
    {
     "data": {
      "image/png": "[encoded data removed]",
      "text/plain": [
       "<Figure size 432x288 with 1 Axes>"
      ]
     },
     "metadata": {
      "needs_background": "light"
     },
     "output_type": "display_data"
    }
   ],
   "source": [
    "df_catalogue.feature_4.hist(bins = 40);"
   ]
  },
  {
   "cell_type": "code",
   "execution_count": 62,
   "metadata": {},
   "outputs": [
    {
     "data": {
      "image/png": "[encoded data removed]",
      "text/plain": [
       "<Figure size 432x288 with 1 Axes>"
      ]
     },
     "metadata": {
      "needs_background": "light"
     },
     "output_type": "display_data"
    }
   ],
   "source": [
    "df_catalogue.feature_5.hist(bins = 40);"
   ]
  },
  {
   "cell_type": "code",
   "execution_count": 63,
   "metadata": {},
   "outputs": [
    {
     "data": {
      "text/plain": [
       "<matplotlib.axes._subplots.AxesSubplot at 0x7fd902237e10>"
      ]
     },
     "execution_count": 63,
     "metadata": {},
     "output_type": "execute_result"
    },
    {
     "data": {
      "image/png": "[encoded data removed]",
      "text/plain": [
       "<Figure size 432x288 with 1 Axes>"
      ]
     },
     "metadata": {
      "needs_background": "light"
     },
     "output_type": "display_data"
    }
   ],
   "source": [
    "df_catalogue.duration.hist(bins = 40)"
   ]
  },
  {
   "cell_type": "code",
   "execution_count": 71,
   "metadata": {},
   "outputs": [
    {
     "data": {
      "text/plain": [
       "['purchase', 'rent', 'subscription']    4104\n",
       "['purchase', 'rent']                    2645\n",
       "[]                                      2097\n",
       "['purchase', 'subscription']             644\n",
       "['purchase']                             431\n",
       "['subscription']                         247\n",
       "['rent']                                  21\n",
       "['rent', 'subscription']                  11\n",
       "Name: availability, dtype: int64"
      ]
     },
     "execution_count": 71,
     "metadata": {},
     "output_type": "execute_result"
    }
   ],
   "source": [
    "df_catalogue.availability.astype(str).value_counts()"
   ]
  },
  {
   "cell_type": "code",
   "execution_count": 72,
   "metadata": {},
   "outputs": [
    {
     "data": {
      "text/plain": [
       "[27341, 7, 27342, 1241, 25]                                                                                                     25\n",
       "[32073, 32074, 32075, 15435, 7, 32076, 32077, 32078, 1134, 14, 15, 1135, 11867, 25]                                             16\n",
       "[6619, 51, 6620, 1134, 14, 15, 1135, 18, 19, 20, 34, 1904, 36, 6621, 25]                                                         9\n",
       "[35239, 270, 35314, 1134, 14, 15, 1135]                                                                                          8\n",
       "[15759, 83, 15760, 1134, 25]                                                                                                     7\n",
       "[35552, 35553, 1163, 35554, 1492, 14, 15, 3273, 25]                                                                              7\n",
       "[20273, 270, 20274, 1492, 14, 15, 3273, 25]                                                                                      7\n",
       "[35265, 577, 35266, 1134, 14, 15, 1135, 25]                                                                                      7\n",
       "[33244, 33245, 33246, 26237, 7, 33247, 33248, 33249, 1492]                                                                       6\n",
       "[33702, 270, 33703, 1134, 14, 15, 1135]                                                                                          6\n",
       "[35552, 35553, 1163, 35554, 1492, 14, 15, 3273]                                                                                  6\n",
       "[6615, 51, 6616, 1134, 14, 15, 1135, 17, 18, 19, 20, 1904, 3031, 25]                                                             5\n",
       "[6619, 51, 6620, 1134, 14, 15, 1135, 17, 18, 19, 20, 1904, 3031, 6621, 25]                                                       5\n",
       "[35806, 35807, 35808, 35809, 1163, 35810, 35811, 1134, 25]                                                                       4\n",
       "[31254, 270, 31127, 1134, 14, 15, 1135, 239, 20]                                                                                 4\n",
       "[32575, 270, 32576, 32577, 1492, 32578, 32579, 32580]                                                                            4\n",
       "[27341, 7, 27342, 1241]                                                                                                          4\n",
       "[16907, 33761, 270, 34886, 1492, 14, 15, 3273, 328, 24921]                                                                       3\n",
       "[6622, 51, 6623, 1134, 14, 15, 1135, 17, 18, 19, 20, 1904, 3031, 25]                                                             3\n",
       "[21865, 396, 21866, 1492, 14, 15, 3273, 16, 9732, 6479, 3277]                                                                    3\n",
       "[17761, 270, 32808, 1134, 138, 14, 15, 1135, 19, 328]                                                                            3\n",
       "[31359, 270, 31127, 1134, 14, 15, 1135, 239, 20]                                                                                 3\n",
       "[33702, 270, 33703, 1134, 14, 15, 1135, 25]                                                                                      3\n",
       "[6619, 51, 6620, 1134, 14, 15, 1135, 17, 18, 19, 20, 1904, 3031, 25]                                                             3\n",
       "[947, 948, 949, 950, 7, 951, 42, 175, 25]                                                                                        2\n",
       "[13072, 51, 13073, 1134, 25]                                                                                                     2\n",
       "[981, 982, 983, 984, 7, 985, 54, 175, 25]                                                                                        2\n",
       "[15763, 83, 15764, 1134, 25]                                                                                                     2\n",
       "[32451, 32452, 32453, 32454, 7, 32455, 43, 25]                                                                                   2\n",
       "[31235, 270, 31127, 1134, 14, 15, 1135, 239, 20]                                                                                 2\n",
       "                                                                                                                                ..\n",
       "[881, 27225, 27226, 27227, 1401, 7, 23982, 42, 124, 14, 15, 17, 18, 19, 20, 21, 27228, 25]                                       1\n",
       "[32644, 32645, 2207, 13323, 437, 52, 30923, 10, 32646, 12196]                                                                    1\n",
       "[22204, 18072, 22205, 22206, 22207, 270, 13115, 123, 43, 14, 15, 17, 18, 19, 328, 272, 20, 44, 56, 12291, 12292, 12293]          1\n",
       "[26531, 82, 9363, 42, 14, 15, 17, 18, 19, 20, 55, 26532, 19252]                                                                  1\n",
       "[2848, 691, 11435, 4937, 3983, 83, 7, 11436, 42, 11437, 689]                                                                     1\n",
       "[20821, 20822, 6421, 20823, 270, 20824, 17792, 1492, 14, 15, 16, 17, 18, 19, 20, 25]                                             1\n",
       "[14067, 15069, 7, 6824, 42, 910, 15070, 197]                                                                                     1\n",
       "[12380, 12450, 18165, 18166, 396, 18167, 3771, 4861, 25]                                                                         1\n",
       "[3246, 5468, 15779, 14283, 8989, 7, 26692, 308, 43, 14, 15, 17, 18, 19, 20, 21, 6467, 26693, 25]                                 1\n",
       "[14540, 1308, 8495, 14541, 2550, 7, 14542, 42, 43, 17, 18, 19, 20, 14543, 14544, 25]                                             1\n",
       "[33227, 33228, 33229, 33230, 33231, 33232, 33233, 9666, 33234, 33235, 601, 82, 52, 33236, 1134]                                  1\n",
       "[13785, 3503, 6498, 4786, 13729, 1463, 7, 4296, 7650, 11, 1492, 14, 15, 33, 20, 388, 34, 35, 36, 22, 6725, 13786, 13787, 24]     1\n",
       "[3503, 3753, 6498, 1764, 12299, 342, 7, 12300, 4539, 1492, 17, 18, 19, 20, 6725, 2936, 12301, 24, 25]                            1\n",
       "[13964, 13965, 13966, 1652, 13967, 7, 1639, 31, 54, 20, 388, 13968, 4558, 197]                                                   1\n",
       "[28502, 11434, 14236, 33616, 270, 22697, 33587, 175, 14, 15, 32811]                                                              1\n",
       "[536, 3240, 17111, 11425, 14717, 7, 33481, 33733, 33734, 42, 54, 25893, 33735, 33736, 33503, 25]                                 1\n",
       "[1195, 1625, 1652, 217, 7, 1509, 42, 54, 170, 33, 17, 20, 302, 25]                                                               1\n",
       "[9349, 6962, 1652, 9350, 9351, 3142, 7, 6905, 31, 43, 9352, 9353, 3590, 9354, 19, 20, 6432, 9355]                                1\n",
       "[10449, 15724, 8583, 2146, 8492, 7, 2266, 43, 17, 18, 19, 20, 15725, 15726, 165, 25]                                             1\n",
       "[24027, 8541, 12315, 844, 24028, 7, 24029, 43, 17, 18, 19, 20, 24030, 16521, 689]                                                1\n",
       "[1362, 2122, 30485, 4663, 8436, 7, 12047, 42, 17, 18, 19, 20, 30486, 25]                                                         1\n",
       "[3240, 2870, 5941, 5942, 5943, 83, 5944, 43, 14, 15, 17, 18, 19, 20, 21, 5945, 25]                                               1\n",
       "[15515, 7, 15516, 32, 308, 910, 15517]                                                                                           1\n",
       "[15242, 7515, 2600, 3127, 2003, 7, 8646, 9, 10, 11, 17, 19, 20, 151, 5813, 186, 187, 188]                                        1\n",
       "[10068, 10074, 10075, 10076, 10077, 245, 10078, 85, 54, 43, 14, 15, 17, 18, 19, 20, 55, 10079, 10080, 25]                        1\n",
       "[6828, 21079, 21080, 21081, 1525, 3234, 7, 21082, 7003, 31, 10, 1759, 2436, 21083, 17, 18, 19, 20, 21084, 689]                   1\n",
       "[28166, 605, 461, 1181, 7, 6007, 42, 54, 14, 15, 17, 18, 19, 20, 21, 25]                                                         1\n",
       "[345, 12769, 8112, 12770, 714, 7, 12771, 12772, 43, 14, 15, 131, 17, 19, 151, 21, 44, 25]                                        1\n",
       "[12917, 12918, 12919, 12920, 12921, 12922, 396, 12923, 42, 12924, 839, 12925, 12926, 12893, 644]                                 1\n",
       "[8580, 31838, 1205, 17454, 39, 7, 31839, 31, 42, 14, 15, 17, 18, 19, 20, 21, 31840, 25]                                          1\n",
       "Name: attributes, Length: 10027, dtype: int64"
      ]
     },
     "execution_count": 72,
     "metadata": {},
     "output_type": "execute_result"
    }
   ],
   "source": [
    "df_catalogue.attributes.astype(str).value_counts()"
   ]
  }
 ],
 "metadata": {
  "kernelspec": {
   "display_name": "Python 3",
   "language": "python",
   "name": "python3"
  },
  "language_info": {
   "codemirror_mode": {
    "name": "ipython",
    "version": 3
   },
   "file_extension": ".py",
   "mimetype": "text/x-python",
   "name": "python",
   "nbconvert_exporter": "python",
   "pygments_lexer": "ipython3",
   "version": "3.5.2"
  }
 },
 "nbformat": 4,
 "nbformat_minor": 2
}
