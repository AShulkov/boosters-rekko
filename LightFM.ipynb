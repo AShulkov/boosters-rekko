{
 "cells": [
  {
   "cell_type": "code",
   "execution_count": 38,
   "metadata": {},
   "outputs": [],
   "source": [
    "from lightfm import LightFM\n",
    "from lightfm.datasets import fetch_movielens\n",
    "from lightfm.evaluation import precision_at_k\n",
    "\n",
    "import numpy as np\n",
    "import pandas as pd\n",
    "\n",
    "import os\n",
    "import json\n",
    "\n",
    "import tqdm\n",
    "\n",
    "%matplotlib inline\n",
    "\n",
    "DATA_PATH = './data/'\n",
    "PREDICT_PATH = './predictions/'"
   ]
  },
  {
   "cell_type": "code",
   "execution_count": 2,
   "metadata": {},
   "outputs": [],
   "source": [
    "with open(os.path.join(DATA_PATH, 'test_users.json'), 'r') as f:\n",
    "    test_users = set(json.load(f)['users'])"
   ]
  },
  {
   "cell_type": "code",
   "execution_count": 3,
   "metadata": {},
   "outputs": [
    {
     "name": "stdout",
     "output_type": "stream",
     "text": [
      "(10200, 7)\n",
      "CPU times: user 1.64 s, sys: 20.3 ms, total: 1.66 s\n",
      "Wall time: 1.69 s\n"
     ]
    }
   ],
   "source": [
    "%%time\n",
    "df_catalogue = pd.read_json(\n",
    "    os.path.join(DATA_PATH, 'catalogue.json'), orient = 'index', typ = 'frame'\n",
    "    )\n",
    "df_catalogue.index.rename('element_uid', inplace = True)\n",
    "df_catalogue.drop(['attributes', 'availability'], axis = 1, inplace = True)\n",
    "print(df_catalogue.shape)"
   ]
  },
  {
   "cell_type": "code",
   "execution_count": 4,
   "metadata": {},
   "outputs": [
    {
     "name": "stdout",
     "output_type": "stream",
     "text": [
      "(9643012, 7)\n",
      "CPU times: user 7.16 s, sys: 489 ms, total: 7.65 s\n",
      "Wall time: 8.61 s\n"
     ]
    }
   ],
   "source": [
    "%%time\n",
    "transactions = pd.read_csv(\n",
    "    os.path.join(DATA_PATH, 'transactions.csv'),\n",
    "    dtype={\n",
    "        'element_uid': np.uint16,\n",
    "        'user_uid': np.uint32,\n",
    "        'consumption_mode': 'category',\n",
    "        'ts': np.float64,\n",
    "        'watched_time': np.uint64,\n",
    "        'device_type': np.uint8,\n",
    "        'device_manufacturer': np.uint8\n",
    "    }\n",
    ")\n",
    "print (transactions.shape)"
   ]
  },
  {
   "cell_type": "code",
   "execution_count": 5,
   "metadata": {},
   "outputs": [
    {
     "name": "stdout",
     "output_type": "stream",
     "text": [
      "(438790, 4)\n"
     ]
    }
   ],
   "source": [
    "ratings = pd.read_csv(\n",
    "    os.path.join(DATA_PATH, 'ratings.csv'),\n",
    "    dtype={\n",
    "        'element_uid': np.uint16,\n",
    "        'user_uid': np.uint32,\n",
    "        'ts': np.float64,\n",
    "        'rating': np.float64\n",
    "    }\n",
    ")\n",
    "print (ratings.shape)"
   ]
  },
  {
   "cell_type": "code",
   "execution_count": 6,
   "metadata": {},
   "outputs": [
    {
     "name": "stdout",
     "output_type": "stream",
     "text": [
      "(948216, 3)\n"
     ]
    },
    {
     "data": {
      "text/html": [
       "<div>\n",
       "<style scoped>\n",
       "    .dataframe tbody tr th:only-of-type {\n",
       "        vertical-align: middle;\n",
       "    }\n",
       "\n",
       "    .dataframe tbody tr th {\n",
       "        vertical-align: top;\n",
       "    }\n",
       "\n",
       "    .dataframe thead th {\n",
       "        text-align: right;\n",
       "    }\n",
       "</style>\n",
       "<table border=\"1\" class=\"dataframe\">\n",
       "  <thead>\n",
       "    <tr style=\"text-align: right;\">\n",
       "      <th></th>\n",
       "      <th>user_uid</th>\n",
       "      <th>element_uid</th>\n",
       "      <th>ts_bookmark</th>\n",
       "    </tr>\n",
       "  </thead>\n",
       "  <tbody>\n",
       "    <tr>\n",
       "      <th>0</th>\n",
       "      <td>301135</td>\n",
       "      <td>7185</td>\n",
       "      <td>4.430516e+07</td>\n",
       "    </tr>\n",
       "    <tr>\n",
       "      <th>1</th>\n",
       "      <td>301135</td>\n",
       "      <td>4083</td>\n",
       "      <td>4.430516e+07</td>\n",
       "    </tr>\n",
       "    <tr>\n",
       "      <th>2</th>\n",
       "      <td>301135</td>\n",
       "      <td>10158</td>\n",
       "      <td>4.430516e+07</td>\n",
       "    </tr>\n",
       "    <tr>\n",
       "      <th>3</th>\n",
       "      <td>301135</td>\n",
       "      <td>2693</td>\n",
       "      <td>4.430516e+07</td>\n",
       "    </tr>\n",
       "    <tr>\n",
       "      <th>4</th>\n",
       "      <td>301135</td>\n",
       "      <td>2181</td>\n",
       "      <td>4.430515e+07</td>\n",
       "    </tr>\n",
       "  </tbody>\n",
       "</table>\n",
       "</div>"
      ],
      "text/plain": [
       "   user_uid  element_uid   ts_bookmark\n",
       "0    301135         7185  4.430516e+07\n",
       "1    301135         4083  4.430516e+07\n",
       "2    301135        10158  4.430516e+07\n",
       "3    301135         2693  4.430516e+07\n",
       "4    301135         2181  4.430515e+07"
      ]
     },
     "execution_count": 6,
     "metadata": {},
     "output_type": "execute_result"
    }
   ],
   "source": [
    "bookmarks = pd.read_csv(\n",
    "    os.path.join(DATA_PATH, 'bookmarks.csv'),\n",
    "    dtype={\n",
    "        'element_uid': np.uint16,\n",
    "        'user_uid': np.uint32,\n",
    "        'ts': np.float64\n",
    "    }\n",
    ")\n",
    "bookmarks.rename({'ts': 'ts_bookmark'}, axis=1, inplace = True)\n",
    "print(bookmarks.shape)\n",
    "bookmarks.head()"
   ]
  },
  {
   "cell_type": "code",
   "execution_count": 7,
   "metadata": {},
   "outputs": [],
   "source": [
    "transactions = transactions.merge(df_catalogue, \n",
    "                                  how = 'left', \n",
    "                                  left_on = 'element_uid', right_index = True\n",
    "                                 )"
   ]
  },
  {
   "cell_type": "code",
   "execution_count": 8,
   "metadata": {},
   "outputs": [
    {
     "data": {
      "text/html": [
       "<div>\n",
       "<style scoped>\n",
       "    .dataframe tbody tr th:only-of-type {\n",
       "        vertical-align: middle;\n",
       "    }\n",
       "\n",
       "    .dataframe tbody tr th {\n",
       "        vertical-align: top;\n",
       "    }\n",
       "\n",
       "    .dataframe thead th {\n",
       "        text-align: right;\n",
       "    }\n",
       "</style>\n",
       "<table border=\"1\" class=\"dataframe\">\n",
       "  <thead>\n",
       "    <tr style=\"text-align: right;\">\n",
       "      <th></th>\n",
       "      <th>element_uid</th>\n",
       "      <th>user_uid</th>\n",
       "      <th>consumption_mode</th>\n",
       "      <th>ts</th>\n",
       "      <th>watched_time</th>\n",
       "      <th>device_type</th>\n",
       "      <th>device_manufacturer</th>\n",
       "      <th>duration</th>\n",
       "      <th>feature_1</th>\n",
       "      <th>feature_2</th>\n",
       "      <th>feature_3</th>\n",
       "      <th>feature_4</th>\n",
       "      <th>feature_5</th>\n",
       "      <th>type</th>\n",
       "      <th>watched_ratio</th>\n",
       "    </tr>\n",
       "  </thead>\n",
       "  <tbody>\n",
       "    <tr>\n",
       "      <th>0</th>\n",
       "      <td>3336</td>\n",
       "      <td>5177</td>\n",
       "      <td>S</td>\n",
       "      <td>4.430518e+07</td>\n",
       "      <td>4282</td>\n",
       "      <td>0</td>\n",
       "      <td>50</td>\n",
       "      <td>90</td>\n",
       "      <td>4.166108e+07</td>\n",
       "      <td>0.739609</td>\n",
       "      <td>45</td>\n",
       "      <td>1.141929</td>\n",
       "      <td>0.654707</td>\n",
       "      <td>movie</td>\n",
       "      <td>0.751228</td>\n",
       "    </tr>\n",
       "    <tr>\n",
       "      <th>1</th>\n",
       "      <td>481</td>\n",
       "      <td>593316</td>\n",
       "      <td>S</td>\n",
       "      <td>4.430518e+07</td>\n",
       "      <td>2989</td>\n",
       "      <td>0</td>\n",
       "      <td>11</td>\n",
       "      <td>50</td>\n",
       "      <td>4.293419e+07</td>\n",
       "      <td>0.750161</td>\n",
       "      <td>11</td>\n",
       "      <td>1.119409</td>\n",
       "      <td>0.592716</td>\n",
       "      <td>movie</td>\n",
       "      <td>0.905758</td>\n",
       "    </tr>\n",
       "    <tr>\n",
       "      <th>2</th>\n",
       "      <td>4128</td>\n",
       "      <td>262355</td>\n",
       "      <td>S</td>\n",
       "      <td>4.430518e+07</td>\n",
       "      <td>833</td>\n",
       "      <td>0</td>\n",
       "      <td>50</td>\n",
       "      <td>100</td>\n",
       "      <td>2.777730e+07</td>\n",
       "      <td>0.750161</td>\n",
       "      <td>12</td>\n",
       "      <td>1.130076</td>\n",
       "      <td>0.654707</td>\n",
       "      <td>movie</td>\n",
       "      <td>0.132222</td>\n",
       "    </tr>\n",
       "    <tr>\n",
       "      <th>3</th>\n",
       "      <td>6272</td>\n",
       "      <td>74296</td>\n",
       "      <td>S</td>\n",
       "      <td>4.430518e+07</td>\n",
       "      <td>2530</td>\n",
       "      <td>0</td>\n",
       "      <td>99</td>\n",
       "      <td>100</td>\n",
       "      <td>4.041556e+07</td>\n",
       "      <td>0.675218</td>\n",
       "      <td>34</td>\n",
       "      <td>1.140273</td>\n",
       "      <td>0.680410</td>\n",
       "      <td>movie</td>\n",
       "      <td>0.401587</td>\n",
       "    </tr>\n",
       "    <tr>\n",
       "      <th>4</th>\n",
       "      <td>5543</td>\n",
       "      <td>340623</td>\n",
       "      <td>P</td>\n",
       "      <td>4.430518e+07</td>\n",
       "      <td>6282</td>\n",
       "      <td>0</td>\n",
       "      <td>50</td>\n",
       "      <td>70</td>\n",
       "      <td>9.212964e+06</td>\n",
       "      <td>0.783234</td>\n",
       "      <td>14</td>\n",
       "      <td>1.113885</td>\n",
       "      <td>0.000000</td>\n",
       "      <td>movie</td>\n",
       "      <td>1.396000</td>\n",
       "    </tr>\n",
       "  </tbody>\n",
       "</table>\n",
       "</div>"
      ],
      "text/plain": [
       "   element_uid  user_uid consumption_mode            ts  watched_time  \\\n",
       "0         3336      5177                S  4.430518e+07          4282   \n",
       "1          481    593316                S  4.430518e+07          2989   \n",
       "2         4128    262355                S  4.430518e+07           833   \n",
       "3         6272     74296                S  4.430518e+07          2530   \n",
       "4         5543    340623                P  4.430518e+07          6282   \n",
       "\n",
       "   device_type  device_manufacturer  duration     feature_1  feature_2  \\\n",
       "0            0                   50        90  4.166108e+07   0.739609   \n",
       "1            0                   11        50  4.293419e+07   0.750161   \n",
       "2            0                   50       100  2.777730e+07   0.750161   \n",
       "3            0                   99       100  4.041556e+07   0.675218   \n",
       "4            0                   50        70  9.212964e+06   0.783234   \n",
       "\n",
       "   feature_3  feature_4  feature_5   type  watched_ratio  \n",
       "0         45   1.141929   0.654707  movie       0.751228  \n",
       "1         11   1.119409   0.592716  movie       0.905758  \n",
       "2         12   1.130076   0.654707  movie       0.132222  \n",
       "3         34   1.140273   0.680410  movie       0.401587  \n",
       "4         14   1.113885   0.000000  movie       1.396000  "
      ]
     },
     "execution_count": 8,
     "metadata": {},
     "output_type": "execute_result"
    }
   ],
   "source": [
    "transactions['watched_ratio'] = (transactions.watched_time)/((transactions.duration + 5)*60)\n",
    "transactions.head()"
   ]
  },
  {
   "cell_type": "code",
   "execution_count": null,
   "metadata": {},
   "outputs": [],
   "source": [
    "# Watched more than half of the film, if it is available for free or by subscription.\n",
    "# Watched more than a third of the series, if it is available for free or by subscription"
   ]
  },
  {
   "cell_type": "code",
   "execution_count": 9,
   "metadata": {},
   "outputs": [
    {
     "name": "stdout",
     "output_type": "stream",
     "text": [
      "(6356638, 15)\n"
     ]
    },
    {
     "data": {
      "text/html": [
       "<div>\n",
       "<style scoped>\n",
       "    .dataframe tbody tr th:only-of-type {\n",
       "        vertical-align: middle;\n",
       "    }\n",
       "\n",
       "    .dataframe tbody tr th {\n",
       "        vertical-align: top;\n",
       "    }\n",
       "\n",
       "    .dataframe thead th {\n",
       "        text-align: right;\n",
       "    }\n",
       "</style>\n",
       "<table border=\"1\" class=\"dataframe\">\n",
       "  <thead>\n",
       "    <tr style=\"text-align: right;\">\n",
       "      <th></th>\n",
       "      <th>element_uid</th>\n",
       "      <th>user_uid</th>\n",
       "      <th>consumption_mode</th>\n",
       "      <th>ts</th>\n",
       "      <th>watched_time</th>\n",
       "      <th>device_type</th>\n",
       "      <th>device_manufacturer</th>\n",
       "      <th>duration</th>\n",
       "      <th>feature_1</th>\n",
       "      <th>feature_2</th>\n",
       "      <th>feature_3</th>\n",
       "      <th>feature_4</th>\n",
       "      <th>feature_5</th>\n",
       "      <th>type</th>\n",
       "      <th>watched_ratio</th>\n",
       "    </tr>\n",
       "  </thead>\n",
       "  <tbody>\n",
       "    <tr>\n",
       "      <th>0</th>\n",
       "      <td>3336</td>\n",
       "      <td>5177</td>\n",
       "      <td>S</td>\n",
       "      <td>4.430518e+07</td>\n",
       "      <td>4282</td>\n",
       "      <td>0</td>\n",
       "      <td>50</td>\n",
       "      <td>90</td>\n",
       "      <td>4.166108e+07</td>\n",
       "      <td>0.739609</td>\n",
       "      <td>45</td>\n",
       "      <td>1.141929</td>\n",
       "      <td>0.654707</td>\n",
       "      <td>movie</td>\n",
       "      <td>0.751228</td>\n",
       "    </tr>\n",
       "    <tr>\n",
       "      <th>1</th>\n",
       "      <td>481</td>\n",
       "      <td>593316</td>\n",
       "      <td>S</td>\n",
       "      <td>4.430518e+07</td>\n",
       "      <td>2989</td>\n",
       "      <td>0</td>\n",
       "      <td>11</td>\n",
       "      <td>50</td>\n",
       "      <td>4.293419e+07</td>\n",
       "      <td>0.750161</td>\n",
       "      <td>11</td>\n",
       "      <td>1.119409</td>\n",
       "      <td>0.592716</td>\n",
       "      <td>movie</td>\n",
       "      <td>0.905758</td>\n",
       "    </tr>\n",
       "    <tr>\n",
       "      <th>2</th>\n",
       "      <td>5543</td>\n",
       "      <td>340623</td>\n",
       "      <td>P</td>\n",
       "      <td>4.430518e+07</td>\n",
       "      <td>6282</td>\n",
       "      <td>0</td>\n",
       "      <td>50</td>\n",
       "      <td>70</td>\n",
       "      <td>9.212964e+06</td>\n",
       "      <td>0.783234</td>\n",
       "      <td>14</td>\n",
       "      <td>1.113885</td>\n",
       "      <td>0.000000</td>\n",
       "      <td>movie</td>\n",
       "      <td>1.396000</td>\n",
       "    </tr>\n",
       "    <tr>\n",
       "      <th>3</th>\n",
       "      <td>4208</td>\n",
       "      <td>356688</td>\n",
       "      <td>S</td>\n",
       "      <td>4.430518e+07</td>\n",
       "      <td>7229</td>\n",
       "      <td>0</td>\n",
       "      <td>11</td>\n",
       "      <td>110</td>\n",
       "      <td>6.204660e+06</td>\n",
       "      <td>0.789495</td>\n",
       "      <td>27</td>\n",
       "      <td>1.124804</td>\n",
       "      <td>0.654707</td>\n",
       "      <td>movie</td>\n",
       "      <td>1.047681</td>\n",
       "    </tr>\n",
       "    <tr>\n",
       "      <th>4</th>\n",
       "      <td>5651</td>\n",
       "      <td>490059</td>\n",
       "      <td>S</td>\n",
       "      <td>4.430518e+07</td>\n",
       "      <td>9390</td>\n",
       "      <td>0</td>\n",
       "      <td>50</td>\n",
       "      <td>20</td>\n",
       "      <td>4.193306e+07</td>\n",
       "      <td>0.677350</td>\n",
       "      <td>0</td>\n",
       "      <td>1.138604</td>\n",
       "      <td>0.654707</td>\n",
       "      <td>series</td>\n",
       "      <td>6.260000</td>\n",
       "    </tr>\n",
       "  </tbody>\n",
       "</table>\n",
       "</div>"
      ],
      "text/plain": [
       "   element_uid  user_uid consumption_mode            ts  watched_time  \\\n",
       "0         3336      5177                S  4.430518e+07          4282   \n",
       "1          481    593316                S  4.430518e+07          2989   \n",
       "2         5543    340623                P  4.430518e+07          6282   \n",
       "3         4208    356688                S  4.430518e+07          7229   \n",
       "4         5651    490059                S  4.430518e+07          9390   \n",
       "\n",
       "   device_type  device_manufacturer  duration     feature_1  feature_2  \\\n",
       "0            0                   50        90  4.166108e+07   0.739609   \n",
       "1            0                   11        50  4.293419e+07   0.750161   \n",
       "2            0                   50        70  9.212964e+06   0.783234   \n",
       "3            0                   11       110  6.204660e+06   0.789495   \n",
       "4            0                   50        20  4.193306e+07   0.677350   \n",
       "\n",
       "   feature_3  feature_4  feature_5    type  watched_ratio  \n",
       "0         45   1.141929   0.654707   movie       0.751228  \n",
       "1         11   1.119409   0.592716   movie       0.905758  \n",
       "2         14   1.113885   0.000000   movie       1.396000  \n",
       "3         27   1.124804   0.654707   movie       1.047681  \n",
       "4          0   1.138604   0.654707  series       6.260000  "
      ]
     },
     "execution_count": 9,
     "metadata": {},
     "output_type": "execute_result"
    }
   ],
   "source": [
    "trans_positive = transactions[((transactions.watched_ratio >= 0.5) & (transactions.type == 'movie'))\n",
    "                            | ((transactions.watched_ratio >= 0.33) & (transactions.type != 'movie'))]\n",
    "trans_positive.reset_index(drop = True, inplace = True)\n",
    "print(trans_positive.shape)\n",
    "trans_positive.head()"
   ]
  },
  {
   "cell_type": "code",
   "execution_count": null,
   "metadata": {
    "scrolled": true
   },
   "outputs": [],
   "source": [
    "ratings = ratings.merge(trans_positive[['element_uid', 'user_uid', 'watched_ratio']], \n",
    "                        how = 'left', \n",
    "                        left_on = ['element_uid', 'user_uid'],\n",
    "                        right_on =  ['element_uid', 'user_uid']\n",
    "                       )\n",
    "print (ratings.shape)"
   ]
  },
  {
   "cell_type": "code",
   "execution_count": null,
   "metadata": {},
   "outputs": [],
   "source": [
    "ratings_extra = ratings[ratings.watched_ratio.isnull()]\n",
    "print (ratings_extra.shape)"
   ]
  },
  {
   "cell_type": "code",
   "execution_count": 29,
   "metadata": {},
   "outputs": [
    {
     "data": {
      "text/plain": [
       "8.273304093567251"
      ]
     },
     "execution_count": 29,
     "metadata": {},
     "output_type": "execute_result"
    }
   ],
   "source": [
    "ratings_extra.rating.mean()"
   ]
  },
  {
   "cell_type": "code",
   "execution_count": 25,
   "metadata": {},
   "outputs": [
    {
     "data": {
      "text/plain": [
       "<matplotlib.axes._subplots.AxesSubplot at 0x7f1c89b2d278>"
      ]
     },
     "execution_count": 25,
     "metadata": {},
     "output_type": "execute_result"
    },
    {
     "data": {
      "image/png": "[encoded data removed]",
      "text/plain": [
       "<Figure size 432x288 with 1 Axes>"
      ]
     },
     "metadata": {
      "needs_background": "light"
     },
     "output_type": "display_data"
    }
   ],
   "source": [
    "ratings_extra.rating.hist(bins = 11)"
   ]
  },
  {
   "cell_type": "code",
   "execution_count": 30,
   "metadata": {},
   "outputs": [
    {
     "name": "stdout",
     "output_type": "stream",
     "text": [
      "(77770, 5)\n"
     ]
    }
   ],
   "source": [
    "ratings_positive = ratings_extra[ratings_extra.rating >= 8]\n",
    "print(ratings_positive.shape)"
   ]
  },
  {
   "cell_type": "code",
   "execution_count": 35,
   "metadata": {},
   "outputs": [
    {
     "data": {
      "text/html": [
       "<div>\n",
       "<style scoped>\n",
       "    .dataframe tbody tr th:only-of-type {\n",
       "        vertical-align: middle;\n",
       "    }\n",
       "\n",
       "    .dataframe tbody tr th {\n",
       "        vertical-align: top;\n",
       "    }\n",
       "\n",
       "    .dataframe thead th {\n",
       "        text-align: right;\n",
       "    }\n",
       "</style>\n",
       "<table border=\"1\" class=\"dataframe\">\n",
       "  <thead>\n",
       "    <tr style=\"text-align: right;\">\n",
       "      <th></th>\n",
       "      <th>user_uid</th>\n",
       "      <th>element_uid</th>\n",
       "      <th>rating</th>\n",
       "      <th>ts</th>\n",
       "      <th>watched_ratio</th>\n",
       "    </tr>\n",
       "  </thead>\n",
       "  <tbody>\n",
       "    <tr>\n",
       "      <th>0</th>\n",
       "      <td>571252</td>\n",
       "      <td>1364</td>\n",
       "      <td>10.0</td>\n",
       "      <td>4.430517e+07</td>\n",
       "      <td>NaN</td>\n",
       "    </tr>\n",
       "    <tr>\n",
       "      <th>2</th>\n",
       "      <td>443817</td>\n",
       "      <td>4363</td>\n",
       "      <td>8.0</td>\n",
       "      <td>4.430514e+07</td>\n",
       "      <td>NaN</td>\n",
       "    </tr>\n",
       "    <tr>\n",
       "      <th>3</th>\n",
       "      <td>359870</td>\n",
       "      <td>1364</td>\n",
       "      <td>10.0</td>\n",
       "      <td>4.430506e+07</td>\n",
       "      <td>NaN</td>\n",
       "    </tr>\n",
       "    <tr>\n",
       "      <th>5</th>\n",
       "      <td>557663</td>\n",
       "      <td>1918</td>\n",
       "      <td>10.0</td>\n",
       "      <td>4.430505e+07</td>\n",
       "      <td>NaN</td>\n",
       "    </tr>\n",
       "    <tr>\n",
       "      <th>7</th>\n",
       "      <td>95790</td>\n",
       "      <td>5368</td>\n",
       "      <td>9.0</td>\n",
       "      <td>4.430500e+07</td>\n",
       "      <td>NaN</td>\n",
       "    </tr>\n",
       "  </tbody>\n",
       "</table>\n",
       "</div>"
      ],
      "text/plain": [
       "   user_uid  element_uid  rating            ts  watched_ratio\n",
       "0    571252         1364    10.0  4.430517e+07            NaN\n",
       "2    443817         4363     8.0  4.430514e+07            NaN\n",
       "3    359870         1364    10.0  4.430506e+07            NaN\n",
       "5    557663         1918    10.0  4.430505e+07            NaN\n",
       "7     95790         5368     9.0  4.430500e+07            NaN"
      ]
     },
     "execution_count": 35,
     "metadata": {},
     "output_type": "execute_result"
    }
   ],
   "source": [
    "ratings_positive.head()"
   ]
  },
  {
   "cell_type": "code",
   "execution_count": 10,
   "metadata": {},
   "outputs": [
    {
     "name": "stdout",
     "output_type": "stream",
     "text": [
      "(948216, 4)\n"
     ]
    }
   ],
   "source": [
    "bookmarks = bookmarks.merge(trans_positive[['element_uid', 'user_uid', 'watched_ratio']], \n",
    "                        how = 'left', \n",
    "                        left_on = ['element_uid', 'user_uid'],\n",
    "                        right_on =  ['element_uid', 'user_uid']\n",
    "                       )\n",
    "print (bookmarks.shape)"
   ]
  },
  {
   "cell_type": "code",
   "execution_count": 11,
   "metadata": {},
   "outputs": [
    {
     "name": "stdout",
     "output_type": "stream",
     "text": [
      "(744714, 4)\n"
     ]
    }
   ],
   "source": [
    "bookmarks_extra = bookmarks[bookmarks.watched_ratio.isnull()]\n",
    "print (bookmarks_extra.shape)"
   ]
  },
  {
   "cell_type": "code",
   "execution_count": 12,
   "metadata": {},
   "outputs": [
    {
     "name": "stdout",
     "output_type": "stream",
     "text": [
      "(7101352, 2)\n"
     ]
    }
   ],
   "source": [
    "interact_positive = pd.concat((trans_positive[['element_uid', 'user_uid']], \n",
    "                            bookmarks_extra[['element_uid', 'user_uid']]))\n",
    "interact_positive.reset_index(inplace = True, drop = True)\n",
    "print(interact_positive.shape)"
   ]
  },
  {
   "cell_type": "code",
   "execution_count": 13,
   "metadata": {},
   "outputs": [
    {
     "name": "stdout",
     "output_type": "stream",
     "text": [
      "CPU times: user 13.2 s, sys: 130 ms, total: 13.3 s\n",
      "Wall time: 13.7 s\n"
     ]
    }
   ],
   "source": [
    "%%time\n",
    "from lightfm.data import Dataset\n",
    "\n",
    "dataset = Dataset()\n",
    "dataset.fit((x for x in interact_positive.user_uid),\n",
    "            (x for x in interact_positive.element_uid))\n",
    "\n",
    "user_mapping = dataset.mapping()[0]\n",
    "item_mapping = dataset.mapping()[2]"
   ]
  },
  {
   "cell_type": "code",
   "execution_count": 14,
   "metadata": {},
   "outputs": [
    {
     "name": "stdout",
     "output_type": "stream",
     "text": [
      "Num users: 487539, num_items 9540.\n"
     ]
    }
   ],
   "source": [
    "num_users, num_items = dataset.interactions_shape()\n",
    "print('Num users: {}, num_items {}.'.format(num_users, num_items))"
   ]
  },
  {
   "cell_type": "code",
   "execution_count": null,
   "metadata": {},
   "outputs": [],
   "source": [
    "# для транзакций и каталога\n",
    "dataset.fit_partial(items=(x['ISBN'] for x in get_book_features()),\n",
    "                    item_features=(x['Book-Author'] for x in get_book_features()))"
   ]
  },
  {
   "cell_type": "code",
   "execution_count": 15,
   "metadata": {},
   "outputs": [
    {
     "name": "stdout",
     "output_type": "stream",
     "text": [
      "<487539x9540 sparse matrix of type '<class 'numpy.int32'>'\n",
      "\twith 7101352 stored elements in COOrdinate format>\n",
      "CPU times: user 13min 30s, sys: 248 ms, total: 13min 31s\n",
      "Wall time: 13min 31s\n"
     ]
    }
   ],
   "source": [
    "%%time\n",
    "(interactions, weights) = dataset.build_interactions(((interact_positive.user_uid[i], \n",
    "                                                       interact_positive.element_uid[i]) \n",
    "                                                      for i in range(interact_positive.shape[0])))\n",
    "\n",
    "print(repr(interactions))"
   ]
  },
  {
   "cell_type": "code",
   "execution_count": 69,
   "metadata": {},
   "outputs": [],
   "source": [
    "from lightfm.cross_validation import random_train_test_split\n",
    "\n",
    "(train, test) = random_train_test_split(interactions, test_percentage=0.2)"
   ]
  },
  {
   "cell_type": "code",
   "execution_count": 70,
   "metadata": {},
   "outputs": [
    {
     "name": "stdout",
     "output_type": "stream",
     "text": [
      "no_components: 10 , epochs: 10\n",
      "Test precision: 0.02838\n",
      "no_components: 10 , epochs: 20\n",
      "Test precision: 0.02911\n",
      "no_components: 20 , epochs: 10\n",
      "Test precision: 0.02972\n",
      "no_components: 20 , epochs: 20\n",
      "Test precision: 0.02981\n",
      "no_components: 30 , epochs: 10\n",
      "Test precision: 0.02963\n",
      "no_components: 30 , epochs: 20\n",
      "Test precision: 0.02937\n",
      "CPU times: user 59min 23s, sys: 3.24 s, total: 59min 27s\n",
      "Wall time: 23min 50s\n"
     ]
    }
   ],
   "source": [
    "%%time\n",
    "for n in [10, 20, 30]:\n",
    "    for e in [10, 20]:\n",
    "        model = LightFM(loss='warp', no_components=n)\n",
    "        model.fit(train, epochs=e, num_threads=3)\n",
    "        print(\"no_components: %s , epochs: %s\" % (n, e))\n",
    "        print(\"Test precision: %.5f\" % precision_at_k(model, test, k=20, num_threads=3).mean())"
   ]
  },
  {
   "cell_type": "code",
   "execution_count": null,
   "metadata": {},
   "outputs": [],
   "source": [
    "# только транзакции, обрезка по watched_ratio\n",
    "5 10 0.026467944\n",
    "10 10 0.027500955\n",
    "20 10 0.028956437\n",
    "20 20 0.028891606\n",
    "30 10 0.028885659"
   ]
  },
  {
   "cell_type": "code",
   "execution_count": null,
   "metadata": {},
   "outputs": [],
   "source": [
    "# транзакции, обрезка по watched_ratio + рейтинги 8 и выше\n",
    "no_components: 10 , epochs: 10\n",
    "Test precision: 0.028018\n",
    "no_components: 10 , epochs: 20\n",
    "Test precision: 0.028245\n",
    "no_components: 20 , epochs: 10\n",
    "Test precision: 0.028928\n",
    "no_components: 20 , epochs: 20\n",
    "Test precision: 0.028905\n",
    "no_components: 30 , epochs: 10\n",
    "Test precision: 0.029077\n",
    "no_components: 30 , epochs: 20"
   ]
  },
  {
   "cell_type": "code",
   "execution_count": null,
   "metadata": {},
   "outputs": [],
   "source": [
    "# транзакции, обрезка по watched_ratio + букмарки\n",
    "no_components: 10 , epochs: 10\n",
    "Test precision: 0.02838\n",
    "no_components: 10 , epochs: 20\n",
    "Test precision: 0.02911\n",
    "no_components: 20 , epochs: 10\n",
    "Test precision: 0.02972\n",
    "no_components: 20 , epochs: 20\n",
    "Test precision: 0.02981\n",
    "no_components: 30 , epochs: 10\n",
    "Test precision: 0.02963\n",
    "no_components: 30 , epochs: 20\n",
    "Test precision: 0.02937\n",
    "CPU times: user 59min 23s, sys: 3.24 s, total: 59min 27s\n",
    "Wall time: 23min 50s"
   ]
  },
  {
   "cell_type": "code",
   "execution_count": 16,
   "metadata": {},
   "outputs": [
    {
     "name": "stdout",
     "output_type": "stream",
     "text": [
      "CPU times: user 5min 51s, sys: 451 ms, total: 5min 51s\n",
      "Wall time: 2min 19s\n"
     ]
    }
   ],
   "source": [
    "%%time\n",
    "model = LightFM(loss='warp', no_components=20)\n",
    "model.fit(interactions, epochs=20, num_threads=3)"
   ]
  },
  {
   "cell_type": "code",
   "execution_count": 17,
   "metadata": {},
   "outputs": [],
   "source": [
    "interact_positive_users = set(interact_positive.user_uid.unique())\n",
    "test_users_in_interact_positive = list(test_users & interact_positive_users)"
   ]
  },
  {
   "cell_type": "code",
   "execution_count": 18,
   "metadata": {},
   "outputs": [
    {
     "data": {
      "text/plain": [
       "9540"
      ]
     },
     "execution_count": 18,
     "metadata": {},
     "output_type": "execute_result"
    }
   ],
   "source": [
    "movie_list = list(interact_positive.element_uid.unique())\n",
    "int_item_ids = [item_mapping[x] for x in movie_list]\n",
    "len(int_item_ids)"
   ]
  },
  {
   "cell_type": "code",
   "execution_count": 19,
   "metadata": {},
   "outputs": [
    {
     "name": "stderr",
     "output_type": "stream",
     "text": [
      "100%|██████████| 49555/49555 [03:50<00:00, 215.11it/s]\n"
     ]
    }
   ],
   "source": [
    "top500 = {}\n",
    "\n",
    "for user_uid in tqdm.tqdm(test_users_in_interact_positive):\n",
    "    int_user_id = user_mapping[user_uid]\n",
    "    scores = model.predict(int_user_id, int_item_ids, num_threads=3)\n",
    "    top_items = np.array(movie_list)[np.argsort(-scores)]\n",
    "\n",
    "    top500[user_uid] = top_items[:500]"
   ]
  },
  {
   "cell_type": "code",
   "execution_count": 29,
   "metadata": {},
   "outputs": [
    {
     "name": "stderr",
     "output_type": "stream",
     "text": [
      "100%|██████████| 9643012/9643012 [00:31<00:00, 304105.12it/s]\n"
     ]
    }
   ],
   "source": [
    "from collections import defaultdict\n",
    "\n",
    "filtered_elements = defaultdict(set)\n",
    "\n",
    "for user_uid, element_uid in tqdm.tqdm(transactions.loc[:, ['user_uid', 'element_uid']].values):\n",
    "    if user_uid not in test_users:\n",
    "        continue\n",
    "    filtered_elements[user_uid].add(element_uid)"
   ]
  },
  {
   "cell_type": "code",
   "execution_count": 30,
   "metadata": {},
   "outputs": [
    {
     "name": "stderr",
     "output_type": "stream",
     "text": [
      "100%|██████████| 49555/49555 [02:02<00:00, 405.42it/s]\n"
     ]
    }
   ],
   "source": [
    "result = {}\n",
    "for user_uid in tqdm.tqdm(test_users_in_interact_positive):\n",
    "    result[user_uid] = [int(x) for x in top500[user_uid] if x not in filtered_elements[user_uid]][:20]"
   ]
  },
  {
   "cell_type": "code",
   "execution_count": 31,
   "metadata": {},
   "outputs": [],
   "source": [
    "with open(os.path.join(PREDICT_PATH, 'lightfm_transactions_cut_bookmarks_filtered.json'), 'w') as f:\n",
    "    json.dump(result, f)"
   ]
  },
  {
   "cell_type": "code",
   "execution_count": 179,
   "metadata": {},
   "outputs": [
    {
     "data": {
      "text/plain": [
       "0.028348408"
      ]
     },
     "execution_count": 179,
     "metadata": {},
     "output_type": "execute_result"
    }
   ],
   "source": [
    "# если добавить обший топ-20 для оставшихся ~600 пользователей\n",
    "(50000-49417)/50000*0.0188 + 0.0281292"
   ]
  },
  {
   "cell_type": "code",
   "execution_count": 33,
   "metadata": {},
   "outputs": [],
   "source": [
    "top20_ratings = ratings.groupby('element_uid').size().sort_values(ascending = False)[:20].index"
   ]
  },
  {
   "cell_type": "code",
   "execution_count": 34,
   "metadata": {},
   "outputs": [
    {
     "data": {
      "text/plain": [
       "445"
      ]
     },
     "execution_count": 34,
     "metadata": {},
     "output_type": "execute_result"
    }
   ],
   "source": [
    "interact_users = set(interact_positive.user_uid.unique())\n",
    "len(test_users - interact_users)"
   ]
  },
  {
   "cell_type": "code",
   "execution_count": 35,
   "metadata": {},
   "outputs": [
    {
     "name": "stderr",
     "output_type": "stream",
     "text": [
      "100%|██████████| 445/445 [00:00<00:00, 11751.93it/s]\n"
     ]
    }
   ],
   "source": [
    "for user_uid in tqdm.tqdm(test_users - interact_users):\n",
    "    result[user_uid] = list(top20_ratings)"
   ]
  },
  {
   "cell_type": "code",
   "execution_count": 37,
   "metadata": {},
   "outputs": [],
   "source": [
    "with open(os.path.join(PREDICT_PATH, 'lightfm_transactions_cut_bookmarks_filtered_top20.json'), 'w') as f:\n",
    "    json.dump(result, f)"
   ]
  }
 ],
 "metadata": {
  "kernelspec": {
   "display_name": "Python 3",
   "language": "python",
   "name": "python3"
  },
  "language_info": {
   "codemirror_mode": {
    "name": "ipython",
    "version": 3
   },
   "file_extension": ".py",
   "mimetype": "text/x-python",
   "name": "python",
   "nbconvert_exporter": "python",
   "pygments_lexer": "ipython3",
   "version": "3.5.2"
  }
 },
 "nbformat": 4,
 "nbformat_minor": 2
}
