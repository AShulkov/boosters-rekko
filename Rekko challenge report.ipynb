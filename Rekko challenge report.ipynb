{
 "cells": [
  {
   "cell_type": "markdown",
   "metadata": {},
   "source": [
    "# Отчет об участии в соревновании Rekko challenge\n",
    "\n",
    "Александр Шулков"
   ]
  },
  {
   "cell_type": "markdown",
   "metadata": {},
   "source": [
    "## Постановка задачи\n",
    "\n",
    "Соревнование проводится онлайн-кинотеатром, в качестве исходных данных предоставлены:\n",
    " - история просмотров фильмов (покупок и просмотров по подписке) пользователями примерно за полгода (таблица `transactions`)\n",
    " - история проставления ими рейтингов за тот же период (таблица `ratings`)\n",
    " - история добавления пользователями фильмов в избранное (таблица `bookmarks`)\n",
    " - каталог фильмов с обезличенной метаинформацией (таблица `catalogue`)\n",
    "\n",
    "В соревновании требуется предсказать 20 фильмов, которые посмотрит каждый пользователь из тестовой выборки за следующие 60 дней. Тестовая выборка включает в себя 50000 пользователей, при этом только 13251 из них присутствует в таблице рейтингов. В таблице просмотров присутствуют практически все (49992) пользователи из тестового множества."
   ]
  },
  {
   "cell_type": "markdown",
   "metadata": {},
   "source": [
    "## Вариант решения\n",
    "\n",
    "Для восстановления недостающих рейтингов используем один из стандартных подходов - SVD-разложение. Из-за большого числа пользователей (500000) применение user-based коллаборативной фильтрации представляется вычислительно нереализуемым (для расчёта попарных расстояний потребуется рассчитать $500000 * 500000 / 2 = 1.25e^{11}) $). Применение item-based подхода выглядит более реалистичным вариантом, но всё же требует больших вычислений ($10200 * 10200 / 2 = 5.2e^7$ расстояний).\n",
    "\n",
    "Поскольку явно проставленных пользователями рейтингов гораздо меньше, чем данных о просмотренных ими фильмах, хочется использовать эту неявную информацию для обогащения данных о предпочтениях пользователей. Например, продолжительность просмотра фильма кажется хорошей характеристикой того, понравился ли фильм пользователю. \n",
    "\n",
    "На основе данных о просмотрах, добавлении фильма в избранное, а также части метаинформации о фильме построим регрессионную модель, с помощью которой будем предсказывать рейтинги для пар \"пользователь-фильм\", встречающихся в таблице просмотров, но отсутствующих в таблице рейтингов. В качестве дополнительного признака будем использовать сконструированный: отношение времени просмотра к длительности фильма (`watched_ratio`). \n",
    "\n",
    "Для решения задачи регрессии используем алгоритм градиентного бустинга (XGBRegressor) как один из наиболее эффективных и не требующий существенной предобработки данных. Настраиваем его, минимизируя квадратичную ошибку в предсказании рейтингов.\n",
    "\n",
    "Предсказанные таким образом рейтинги добавляются к исходной таблице. На этих данных строится матрица рейтингов, для которой выполняется SVD-разложение с параметрами по умолчанию (на 6 компонент). По результатам разложения восстанавливаются все недостающие рейтинги для тестовых пользователей. Для каждого пользователя выбирается топ-500 фильмов с максимальным прогнозируемым рейтингом (из таблицы транзакций видно, что почти все пользователи из тестового множества просмотрели менее 500 фильмов), из которых удаляются ранее просмотренные фильмы и выбирается топ-20."
   ]
  },
  {
   "cell_type": "markdown",
   "metadata": {},
   "source": [
    "## Эксперименты\n",
    "\n",
    "- предсказание фильмов из топ-500 по общему количеству рейтингов для всех пользователей (с фильтрацией по уже просмотренным) - дало относительно неплохой результат (0.0188)\n",
    "- использование записей из `bookmarks` для дополнения таблицы рейтингов - не дало положительных результатов \n",
    "- выбор подходящего алгоритма для решения задачи регрессии (сравнивались RandomForestRegressor, GradientBoostingRegressor и XGBRegressor), подбор параметров\n",
    "- попытки использования алгоритмов SVD и SVD++ из пакета **surprise** - не дали каких-либо положительных результатов\n",
    "\n"
   ]
  },
  {
   "cell_type": "markdown",
   "metadata": {},
   "source": [
    "## Что ещё можно было бы сделать\n",
    "\n",
    "- провести нормализацию рейтингов\n",
    "- реализовать item-based коллаборативную фильтрацию - как на данных рейтингов, так и на истории просмотров\n",
    "- для расчёта расстояний между фильмами задействовать в модели признаки из каталога фильмов,  таким образом можно было бы предлагать пользователям фильмы, которые отсутствуют в таблицах рейтингов и истории просмотров (1530 фильмов)\n",
    "- в частности, поле `attributes` - по всей видимости, в нём содержится информация о режиссёрах и актёрах фильма, которая могла бы быть полезна для определения схожести между фильмами\n",
    "- подобрать параметры SVD-разложения (количество компонент) по метрике RMSE / MAE качества предсказания существующих рейтингов\n",
    "- разбить данные на обучающую и тестовую выборки по времени (по полю `ts`) и реализовать полноценный подбор параметров алгоритмов с оптимизацией непосредственно целевой метрики соревнования (MNAP@20) \n"
   ]
  },
  {
   "cell_type": "markdown",
   "metadata": {},
   "source": [
    "## Итоговый результат\n",
    "\n",
    "Лучший результат - 0.02615, место в лидерборде - 104, ник - AlexanderShulkov\n",
    "\n",
    " \n",
    "\n"
   ]
  },
  {
   "cell_type": "code",
   "execution_count": 1,
   "metadata": {
    "ExecuteTime": {
     "end_time": "2019-04-12T14:16:35.798938Z",
     "start_time": "2019-04-12T14:16:35.789710Z"
    }
   },
   "outputs": [],
   "source": [
    "# загружаем необходимые библиотеки\n",
    "import os\n",
    "import json\n",
    "import pandas as pd\n",
    "import numpy as np\n",
    "import tqdm\n",
    "\n",
    "from collections import defaultdict\n",
    "\n",
    "from sklearn.preprocessing import LabelEncoder\n",
    "from sklearn.model_selection import KFold, cross_val_score\n",
    "\n",
    "from xgboost import XGBRegressor\n",
    "\n",
    "from scipy.sparse import coo_matrix, csr_matrix\n",
    "\n",
    "import seaborn as sns\n",
    "\n",
    "import gc\n",
    "\n",
    "%matplotlib inline\n",
    "sns.set()\n",
    "\n",
    "import warnings\n",
    "warnings.filterwarnings(\"ignore\")\n",
    "\n",
    "# задаём пути к данным\n",
    "DATA_PATH = './data/'\n",
    "PREDICTIONS_PATH = './predictions/'"
   ]
  },
  {
   "cell_type": "markdown",
   "metadata": {},
   "source": [
    "### Загрузка данных"
   ]
  },
  {
   "cell_type": "code",
   "execution_count": 6,
   "metadata": {
    "ExecuteTime": {
     "end_time": "2019-04-12T12:53:18.970975Z",
     "start_time": "2019-04-12T12:53:05.529395Z"
    }
   },
   "outputs": [],
   "source": [
    "# -- каталог фильмов\n",
    "catalogue = pd.read_json(\n",
    "    os.path.join(DATA_PATH, 'catalogue.json'), \n",
    "    orient = 'index', \n",
    "    typ = 'frame'\n",
    "    )\n",
    "\n",
    "# -- история просмотров\n",
    "transactions = pd.read_csv(\n",
    "    os.path.join(DATA_PATH, 'transactions.csv'),\n",
    "    dtype={\n",
    "        'element_uid': np.uint16,\n",
    "        'user_uid': np.uint32,\n",
    "        'consumption_mode': 'category',\n",
    "        'ts': np.float64,\n",
    "        'watched_time': np.uint64,\n",
    "        'device_type': np.uint8,\n",
    "        'device_manufacturer': np.uint8\n",
    "    }\n",
    ")\n",
    "\n",
    "# -- история добавления в избранное\n",
    "bookmarks = pd.read_csv(\n",
    "    os.path.join(DATA_PATH, 'bookmarks.csv'),\n",
    "    dtype={\n",
    "        'element_uid': np.uint16,\n",
    "        'user_uid': np.uint32,\n",
    "        'ts': np.float64\n",
    "    }\n",
    ")\n",
    "\n",
    "# -- рейтинги\n",
    "ratings = pd.read_csv(\n",
    "    os.path.join(DATA_PATH, 'ratings.csv'),\n",
    "    dtype={\n",
    "        'element_uid': np.uint16,\n",
    "        'user_uid': np.uint32,\n",
    "        'ts': np.float64,\n",
    "        'rating': np.float64\n",
    "    }\n",
    ")\n",
    "\n",
    "# -- множество тестовых пользователей\n",
    "with open(os.path.join(DATA_PATH, 'test_users.json'), 'r') as f:\n",
    "    test_users = set(json.load(f)['users'])"
   ]
  },
  {
   "cell_type": "markdown",
   "metadata": {
    "ExecuteTime": {
     "end_time": "2019-04-12T11:22:13.683660Z",
     "start_time": "2019-04-12T11:22:13.677676Z"
    }
   },
   "source": [
    "### Предобработка данных"
   ]
  },
  {
   "cell_type": "code",
   "execution_count": 7,
   "metadata": {
    "ExecuteTime": {
     "end_time": "2019-04-12T12:53:39.510243Z",
     "start_time": "2019-04-12T12:53:39.160350Z"
    }
   },
   "outputs": [],
   "source": [
    "# удаляем неиспользуемые в дальнейшем столбцы, преобразуем категориальные переменные\n",
    "catalogue.index.rename('element_uid', inplace = True)\n",
    "catalogue.drop(['attributes', 'availability'], axis = 1, inplace = True)\n",
    "catalogue = pd.get_dummies(catalogue, columns = ['type'])\n",
    "\n",
    "transactions = pd.get_dummies(transactions, columns = ['consumption_mode'])\n",
    "\n",
    "bookmarks.rename({'ts': 'ts_bookmark'}, axis=1, inplace = True)"
   ]
  },
  {
   "cell_type": "code",
   "execution_count": 8,
   "metadata": {
    "ExecuteTime": {
     "end_time": "2019-04-12T12:53:52.561245Z",
     "start_time": "2019-04-12T12:53:42.167637Z"
    }
   },
   "outputs": [],
   "source": [
    "# дополняем таблицу просмотров признаками из других таблиц\n",
    "transactions = transactions.merge(catalogue, \n",
    "                                  how = 'left', \n",
    "                                  left_on = 'element_uid', right_index = True\n",
    "                                 )\n",
    "\n",
    "transactions = transactions.merge(bookmarks, \n",
    "                                  how = 'left', \n",
    "                                  left_on = ['element_uid', 'user_uid'], \n",
    "                                  right_on =  ['element_uid', 'user_uid']\n",
    "                                 )\n",
    "\n",
    "transactions = transactions.merge(ratings.drop('ts', axis = 1),\n",
    "                                  how = 'left',\n",
    "                                  left_on = ['element_uid', 'user_uid'],\n",
    "                                  right_on =  ['element_uid', 'user_uid']\n",
    "                                  )"
   ]
  },
  {
   "cell_type": "code",
   "execution_count": 9,
   "metadata": {
    "ExecuteTime": {
     "end_time": "2019-04-12T12:53:53.494429Z",
     "start_time": "2019-04-12T12:53:52.563204Z"
    }
   },
   "outputs": [],
   "source": [
    "# создаём новые признаки\n",
    "transactions['watched_ratio'] = (transactions.watched_time)/((transactions.duration + 5)*60)\n",
    "\n",
    "transactions['is_bookmarked'] = transactions.ts_bookmark.notnull().astype(int)\n",
    "\n",
    "transactions['ts_difference'] = transactions.ts - transactions.ts_bookmark\n",
    "transactions.loc[transactions['ts_difference'].isnull(), 'ts_difference'] = 0"
   ]
  },
  {
   "cell_type": "markdown",
   "metadata": {},
   "source": [
    "### Обучение регрессионной модели"
   ]
  },
  {
   "cell_type": "code",
   "execution_count": 13,
   "metadata": {
    "ExecuteTime": {
     "end_time": "2019-04-12T13:07:15.052806Z",
     "start_time": "2019-04-12T13:07:13.978141Z"
    }
   },
   "outputs": [
    {
     "name": "stdout",
     "output_type": "stream",
     "text": [
      "(357343, 23) (9285669, 23)\n"
     ]
    }
   ],
   "source": [
    "# формируем обучающую выборку\n",
    "train = transactions[transactions.rating.notnull()]\n",
    "test = transactions[transactions.rating.isnull()]\n",
    "print (train.shape, test.shape)\n",
    "\n",
    "X_train = train.drop(['rating', 'element_uid', 'user_uid', 'ts', 'ts_bookmark'], axis = 1)\n",
    "y_train = train['rating']\n",
    "\n",
    "X_test = test.drop(['rating', 'element_uid', 'user_uid', 'ts', 'ts_bookmark'], axis = 1)"
   ]
  },
  {
   "cell_type": "code",
   "execution_count": 14,
   "metadata": {
    "ExecuteTime": {
     "end_time": "2019-04-12T13:07:22.074123Z",
     "start_time": "2019-04-12T13:07:22.057546Z"
    }
   },
   "outputs": [
    {
     "data": {
      "text/html": [
       "<div>\n",
       "<style scoped>\n",
       "    .dataframe tbody tr th:only-of-type {\n",
       "        vertical-align: middle;\n",
       "    }\n",
       "\n",
       "    .dataframe tbody tr th {\n",
       "        vertical-align: top;\n",
       "    }\n",
       "\n",
       "    .dataframe thead th {\n",
       "        text-align: right;\n",
       "    }\n",
       "</style>\n",
       "<table border=\"1\" class=\"dataframe\">\n",
       "  <thead>\n",
       "    <tr style=\"text-align: right;\">\n",
       "      <th></th>\n",
       "      <th>watched_time</th>\n",
       "      <th>device_type</th>\n",
       "      <th>device_manufacturer</th>\n",
       "      <th>consumption_mode_P</th>\n",
       "      <th>consumption_mode_R</th>\n",
       "      <th>consumption_mode_S</th>\n",
       "      <th>duration</th>\n",
       "      <th>feature_1</th>\n",
       "      <th>feature_2</th>\n",
       "      <th>feature_3</th>\n",
       "      <th>feature_4</th>\n",
       "      <th>feature_5</th>\n",
       "      <th>type_movie</th>\n",
       "      <th>type_multipart_movie</th>\n",
       "      <th>type_series</th>\n",
       "      <th>watched_ratio</th>\n",
       "      <th>is_bookmarked</th>\n",
       "      <th>ts_difference</th>\n",
       "    </tr>\n",
       "  </thead>\n",
       "  <tbody>\n",
       "    <tr>\n",
       "      <th>0</th>\n",
       "      <td>4282</td>\n",
       "      <td>0</td>\n",
       "      <td>50</td>\n",
       "      <td>0</td>\n",
       "      <td>0</td>\n",
       "      <td>1</td>\n",
       "      <td>90</td>\n",
       "      <td>4.166108e+07</td>\n",
       "      <td>0.739609</td>\n",
       "      <td>45</td>\n",
       "      <td>1.141929</td>\n",
       "      <td>0.654707</td>\n",
       "      <td>1</td>\n",
       "      <td>0</td>\n",
       "      <td>0</td>\n",
       "      <td>0.751228</td>\n",
       "      <td>0</td>\n",
       "      <td>0.0</td>\n",
       "    </tr>\n",
       "    <tr>\n",
       "      <th>64</th>\n",
       "      <td>1529</td>\n",
       "      <td>5</td>\n",
       "      <td>90</td>\n",
       "      <td>0</td>\n",
       "      <td>0</td>\n",
       "      <td>1</td>\n",
       "      <td>30</td>\n",
       "      <td>4.118513e+07</td>\n",
       "      <td>0.692949</td>\n",
       "      <td>16</td>\n",
       "      <td>1.140273</td>\n",
       "      <td>0.592716</td>\n",
       "      <td>1</td>\n",
       "      <td>0</td>\n",
       "      <td>0</td>\n",
       "      <td>0.728095</td>\n",
       "      <td>0</td>\n",
       "      <td>0.0</td>\n",
       "    </tr>\n",
       "    <tr>\n",
       "      <th>93</th>\n",
       "      <td>4867</td>\n",
       "      <td>0</td>\n",
       "      <td>50</td>\n",
       "      <td>0</td>\n",
       "      <td>0</td>\n",
       "      <td>1</td>\n",
       "      <td>80</td>\n",
       "      <td>4.029988e+07</td>\n",
       "      <td>0.677350</td>\n",
       "      <td>12</td>\n",
       "      <td>1.131807</td>\n",
       "      <td>0.449667</td>\n",
       "      <td>1</td>\n",
       "      <td>0</td>\n",
       "      <td>0</td>\n",
       "      <td>0.954314</td>\n",
       "      <td>0</td>\n",
       "      <td>0.0</td>\n",
       "    </tr>\n",
       "  </tbody>\n",
       "</table>\n",
       "</div>"
      ],
      "text/plain": [
       "    watched_time  device_type  device_manufacturer  consumption_mode_P  \\\n",
       "0           4282            0                   50                   0   \n",
       "64          1529            5                   90                   0   \n",
       "93          4867            0                   50                   0   \n",
       "\n",
       "    consumption_mode_R  consumption_mode_S  duration     feature_1  feature_2  \\\n",
       "0                    0                   1        90  4.166108e+07   0.739609   \n",
       "64                   0                   1        30  4.118513e+07   0.692949   \n",
       "93                   0                   1        80  4.029988e+07   0.677350   \n",
       "\n",
       "    feature_3  feature_4  feature_5  type_movie  type_multipart_movie  \\\n",
       "0          45   1.141929   0.654707           1                     0   \n",
       "64         16   1.140273   0.592716           1                     0   \n",
       "93         12   1.131807   0.449667           1                     0   \n",
       "\n",
       "    type_series  watched_ratio  is_bookmarked  ts_difference  \n",
       "0             0       0.751228              0            0.0  \n",
       "64            0       0.728095              0            0.0  \n",
       "93            0       0.954314              0            0.0  "
      ]
     },
     "execution_count": 14,
     "metadata": {},
     "output_type": "execute_result"
    }
   ],
   "source": [
    "X_train.head(3)"
   ]
  },
  {
   "cell_type": "code",
   "execution_count": 15,
   "metadata": {
    "ExecuteTime": {
     "end_time": "2019-04-12T13:57:03.579246Z",
     "start_time": "2019-04-12T13:07:34.792978Z"
    },
    "scrolled": true
   },
   "outputs": [
    {
     "name": "stdout",
     "output_type": "stream",
     "text": [
      "200 2 0.6 [-3.49551283 -3.51947782 -3.55423512 -3.52164109 -3.5218132 ] -3.5225360105466925\n",
      "200 2 0.8 [-3.50030856 -3.51961528 -3.554773   -3.52219569 -3.52204094] -3.5237866942909486\n",
      "200 2 1.0 [-3.50008275 -3.51939921 -3.5548448  -3.52505776 -3.52177648] -3.524232200246577\n",
      "200 3 0.6 [-3.45135793 -3.4752408  -3.5109287  -3.47585196 -3.479687  ] -3.4786132796260154\n",
      "200 3 0.8 [-3.4512768  -3.47702988 -3.51152794 -3.47642674 -3.48307469] -3.4798672124917074\n",
      "200 3 1.0 [-3.45335826 -3.47820154 -3.51505828 -3.47892526 -3.48237577] -3.481583823118931\n",
      "200 5 0.6 [-3.39915468 -3.42722166 -3.4635902  -3.42456228 -3.43651156] -3.430208077060674\n",
      "200 5 0.8 [-3.40001603 -3.4252415  -3.46020192 -3.42528112 -3.43231488] -3.4286110920139046\n",
      "200 5 1.0 [-3.39738158 -3.42303501 -3.46355729 -3.42679766 -3.43555204] -3.429264713612613\n",
      "250 2 0.6 [-3.48807803 -3.5107691  -3.54676502 -3.51350412 -3.51230763] -3.5142847800751236\n",
      "250 2 0.8 [-3.49305607 -3.51159584 -3.54652886 -3.51599783 -3.51442495] -3.516320708396484\n",
      "250 2 1.0 [-3.49211229 -3.51091666 -3.54803824 -3.5184435  -3.51539372] -3.5169808825450217\n",
      "250 3 0.6 [-3.4423668  -3.46396106 -3.50246219 -3.4670218  -3.47171349] -3.4695050672936114\n",
      "250 3 0.8 [-3.44229995 -3.46779994 -3.50267088 -3.46739864 -3.47488226] -3.471010332134732\n",
      "250 3 1.0 [-3.44437565 -3.47110181 -3.50779583 -3.46961076 -3.47366648] -3.473310106145975\n",
      "250 5 0.6 [-3.39462054 -3.42309256 -3.4610436  -3.41869838 -3.43347134] -3.4261852827234316\n",
      "250 5 0.8 [-3.39361934 -3.41939762 -3.45523389 -3.41965388 -3.42554805] -3.422690556254311\n",
      "250 5 1.0 [-3.39276275 -3.41965429 -3.45810104 -3.42009595 -3.43222042] -3.424566889634523\n",
      "300 2 0.6 [-3.48098843 -3.50395789 -3.53971661 -3.5059776  -3.5071967 ] -3.5075674469694107\n",
      "300 2 0.8 [-3.48573825 -3.5049396  -3.53899124 -3.50861028 -3.50873964] -3.509403800192768\n",
      "300 2 1.0 [-3.48670018 -3.50417472 -3.54084786 -3.51021546 -3.50939014] -3.5102656716825336\n",
      "300 3 0.6 [-3.43452355 -3.45654898 -3.49342307 -3.45861417 -3.46408627] -3.461439208520447\n",
      "300 3 0.8 [-3.43437619 -3.4605855  -3.49554241 -3.46182753 -3.46834544] -3.464135413128421\n",
      "300 3 1.0 [-3.43843496 -3.46223762 -3.50113332 -3.4626958  -3.47010959] -3.466922258398155\n",
      "300 5 0.6 [-3.39170645 -3.41951812 -3.45835641 -3.4137125  -3.42967058] -3.422592811002297\n",
      "300 5 0.8 [-3.38970782 -3.41394432 -3.45099195 -3.41327641 -3.4224788 ] -3.4180798595017015\n",
      "300 5 1.0 [-3.38982109 -3.41807654 -3.45554709 -3.41621435 -3.42913041] -3.4217578958918424\n"
     ]
    }
   ],
   "source": [
    "# подбираем оптимальные параметры алгоритма по метрике MSE\n",
    "cv = KFold(n_splits=5, shuffle=True, random_state=42)\n",
    "\n",
    "for n in [200, 250, 300]:\n",
    "    for depth in [2, 3, 5]:\n",
    "        for sample in [0.6, 0.8, 1.0]:\n",
    "            clf = XGBRegressor(n_estimators = n, max_depth = depth, learning_rate = 0.1, subsample = sample)\n",
    "            res = cross_val_score(clf, X_train, y_train, scoring = 'neg_mean_squared_error', cv = cv, n_jobs = 3)\n",
    "            print(n, depth, sample, res, res.mean())"
   ]
  },
  {
   "cell_type": "code",
   "execution_count": 36,
   "metadata": {
    "ExecuteTime": {
     "end_time": "2019-04-12T14:19:07.827444Z",
     "start_time": "2019-04-12T14:17:29.012414Z"
    }
   },
   "outputs": [
    {
     "data": {
      "text/plain": [
       "XGBRegressor(base_score=0.5, booster='gbtree', colsample_bylevel=1,\n",
       "       colsample_bytree=1, gamma=0, importance_type='gain',\n",
       "       learning_rate=0.1, max_delta_step=0, max_depth=5,\n",
       "       min_child_weight=1, missing=None, n_estimators=250, n_jobs=1,\n",
       "       nthread=None, objective='reg:linear', random_state=0, reg_alpha=0,\n",
       "       reg_lambda=1, scale_pos_weight=1, seed=None, silent=True,\n",
       "       subsample=0.8)"
      ]
     },
     "execution_count": 36,
     "metadata": {},
     "output_type": "execute_result"
    }
   ],
   "source": [
    "# обучаем алгоритм\n",
    "xgb = XGBRegressor(n_estimators = 300, max_depth = 5, learning_rate = 0.1, subsample = 0.8)\n",
    "xgb.fit(X_train, y_train)"
   ]
  },
  {
   "cell_type": "code",
   "execution_count": 33,
   "metadata": {
    "ExecuteTime": {
     "end_time": "2019-04-12T14:13:02.303916Z",
     "start_time": "2019-04-12T14:13:02.247251Z"
    }
   },
   "outputs": [
    {
     "data": {
      "text/html": [
       "<div>\n",
       "<style scoped>\n",
       "    .dataframe tbody tr th:only-of-type {\n",
       "        vertical-align: middle;\n",
       "    }\n",
       "\n",
       "    .dataframe tbody tr th {\n",
       "        vertical-align: top;\n",
       "    }\n",
       "\n",
       "    .dataframe thead th {\n",
       "        text-align: right;\n",
       "    }\n",
       "</style>\n",
       "<table border=\"1\" class=\"dataframe\">\n",
       "  <thead>\n",
       "    <tr style=\"text-align: right;\">\n",
       "      <th></th>\n",
       "      <th>feature</th>\n",
       "      <th>importance</th>\n",
       "    </tr>\n",
       "  </thead>\n",
       "  <tbody>\n",
       "    <tr>\n",
       "      <th>8</th>\n",
       "      <td>feature_2</td>\n",
       "      <td>0.314476</td>\n",
       "    </tr>\n",
       "    <tr>\n",
       "      <th>11</th>\n",
       "      <td>feature_5</td>\n",
       "      <td>0.209613</td>\n",
       "    </tr>\n",
       "    <tr>\n",
       "      <th>7</th>\n",
       "      <td>feature_1</td>\n",
       "      <td>0.050264</td>\n",
       "    </tr>\n",
       "    <tr>\n",
       "      <th>9</th>\n",
       "      <td>feature_3</td>\n",
       "      <td>0.044602</td>\n",
       "    </tr>\n",
       "    <tr>\n",
       "      <th>6</th>\n",
       "      <td>duration</td>\n",
       "      <td>0.039575</td>\n",
       "    </tr>\n",
       "    <tr>\n",
       "      <th>1</th>\n",
       "      <td>device_type</td>\n",
       "      <td>0.035492</td>\n",
       "    </tr>\n",
       "    <tr>\n",
       "      <th>0</th>\n",
       "      <td>watched_time</td>\n",
       "      <td>0.034932</td>\n",
       "    </tr>\n",
       "    <tr>\n",
       "      <th>2</th>\n",
       "      <td>device_manufacturer</td>\n",
       "      <td>0.034611</td>\n",
       "    </tr>\n",
       "    <tr>\n",
       "      <th>5</th>\n",
       "      <td>consumption_mode_S</td>\n",
       "      <td>0.030966</td>\n",
       "    </tr>\n",
       "    <tr>\n",
       "      <th>12</th>\n",
       "      <td>type_movie</td>\n",
       "      <td>0.029722</td>\n",
       "    </tr>\n",
       "    <tr>\n",
       "      <th>10</th>\n",
       "      <td>feature_4</td>\n",
       "      <td>0.029577</td>\n",
       "    </tr>\n",
       "    <tr>\n",
       "      <th>16</th>\n",
       "      <td>is_bookmarked</td>\n",
       "      <td>0.029444</td>\n",
       "    </tr>\n",
       "    <tr>\n",
       "      <th>15</th>\n",
       "      <td>watched_ratio</td>\n",
       "      <td>0.028068</td>\n",
       "    </tr>\n",
       "    <tr>\n",
       "      <th>3</th>\n",
       "      <td>consumption_mode_P</td>\n",
       "      <td>0.023799</td>\n",
       "    </tr>\n",
       "    <tr>\n",
       "      <th>13</th>\n",
       "      <td>type_multipart_movie</td>\n",
       "      <td>0.019059</td>\n",
       "    </tr>\n",
       "    <tr>\n",
       "      <th>14</th>\n",
       "      <td>type_series</td>\n",
       "      <td>0.016147</td>\n",
       "    </tr>\n",
       "    <tr>\n",
       "      <th>4</th>\n",
       "      <td>consumption_mode_R</td>\n",
       "      <td>0.016016</td>\n",
       "    </tr>\n",
       "    <tr>\n",
       "      <th>17</th>\n",
       "      <td>ts_difference</td>\n",
       "      <td>0.013639</td>\n",
       "    </tr>\n",
       "  </tbody>\n",
       "</table>\n",
       "</div>"
      ],
      "text/plain": [
       "                 feature  importance\n",
       "8              feature_2    0.314476\n",
       "11             feature_5    0.209613\n",
       "7              feature_1    0.050264\n",
       "9              feature_3    0.044602\n",
       "6               duration    0.039575\n",
       "1            device_type    0.035492\n",
       "0           watched_time    0.034932\n",
       "2    device_manufacturer    0.034611\n",
       "5     consumption_mode_S    0.030966\n",
       "12            type_movie    0.029722\n",
       "10             feature_4    0.029577\n",
       "16         is_bookmarked    0.029444\n",
       "15         watched_ratio    0.028068\n",
       "3     consumption_mode_P    0.023799\n",
       "13  type_multipart_movie    0.019059\n",
       "14           type_series    0.016147\n",
       "4     consumption_mode_R    0.016016\n",
       "17         ts_difference    0.013639"
      ]
     },
     "execution_count": 33,
     "metadata": {},
     "output_type": "execute_result"
    }
   ],
   "source": [
    "# можем проанализировать, какие признаки показались алгоритму наиболее полезными\n",
    "pd.DataFrame(zip(X_train.columns, xgb.feature_importances_), \n",
    "             columns = ['feature', 'importance']\n",
    "            ).sort_values('importance', ascending = False)"
   ]
  },
  {
   "cell_type": "code",
   "execution_count": 19,
   "metadata": {
    "ExecuteTime": {
     "end_time": "2019-04-12T14:01:43.117778Z",
     "start_time": "2019-04-12T13:59:32.676986Z"
    }
   },
   "outputs": [],
   "source": [
    "# предсказываем недостающие рейтинги\n",
    "pred_xgb = xgb.predict(X_test)"
   ]
  },
  {
   "cell_type": "markdown",
   "metadata": {},
   "source": [
    "### Формирование обогащенной матрицы рейтингов"
   ]
  },
  {
   "cell_type": "code",
   "execution_count": 20,
   "metadata": {
    "ExecuteTime": {
     "end_time": "2019-04-12T14:01:43.301290Z",
     "start_time": "2019-04-12T14:01:43.119890Z"
    }
   },
   "outputs": [
    {
     "name": "stdout",
     "output_type": "stream",
     "text": [
      "(9724459, 4)\n"
     ]
    }
   ],
   "source": [
    "# формируем дополненую таблицу рейтингов\n",
    "predicted_ratings = test[['user_uid', 'element_uid']].copy()\n",
    "predicted_ratings['rating'] = pred_xgb\n",
    "predicted_ratings['ts'] = 0.0\n",
    "\n",
    "ratings_full = pd.concat((ratings, predicted_ratings))\n",
    "print(ratings_full.shape)"
   ]
  },
  {
   "cell_type": "code",
   "execution_count": 21,
   "metadata": {
    "ExecuteTime": {
     "end_time": "2019-04-12T14:01:44.616722Z",
     "start_time": "2019-04-12T14:01:43.303284Z"
    }
   },
   "outputs": [],
   "source": [
    "# перенумеровываем ID пользователей и фильмов для создания разреженной матрицы \n",
    "enc_user = LabelEncoder()\n",
    "enc_movie = LabelEncoder()\n",
    "\n",
    "enc_user = enc_user.fit(ratings_full.user_uid.values)\n",
    "enc_movie = enc_movie.fit(ratings_full.element_uid.values)"
   ]
  },
  {
   "cell_type": "code",
   "execution_count": 22,
   "metadata": {
    "ExecuteTime": {
     "end_time": "2019-04-12T14:01:49.694713Z",
     "start_time": "2019-04-12T14:01:44.618781Z"
    }
   },
   "outputs": [
    {
     "data": {
      "text/plain": [
       "<500000x8670 sparse matrix of type '<class 'numpy.float64'>'\n",
       "\twith 9724459 stored elements in Compressed Sparse Row format>"
      ]
     },
     "execution_count": 22,
     "metadata": {},
     "output_type": "execute_result"
    }
   ],
   "source": [
    "# создаём матрицу рейтингов \n",
    "R = coo_matrix((ratings_full.rating.values, \n",
    "                (\n",
    "                    enc_user.transform(ratings_full.user_uid.values), \n",
    "                    enc_movie.transform(ratings_full.element_uid.values)\n",
    "                )\n",
    "               ))\n",
    "R = R.tocsr()\n",
    "R"
   ]
  },
  {
   "cell_type": "markdown",
   "metadata": {},
   "source": [
    "### SVD разложение и предсказание рейтингов"
   ]
  },
  {
   "cell_type": "code",
   "execution_count": 23,
   "metadata": {
    "ExecuteTime": {
     "end_time": "2019-04-12T14:01:51.407002Z",
     "start_time": "2019-04-12T14:01:49.696329Z"
    }
   },
   "outputs": [
    {
     "name": "stdout",
     "output_type": "stream",
     "text": [
      "(500000, 6) (6,) (6, 8670)\n"
     ]
    }
   ],
   "source": [
    "# выполняем матричное разложение\n",
    "from scipy.sparse.linalg import svds\n",
    "u, s, vt = svds(R, k=6)\n",
    "s_matrix = np.diag(s)\n",
    "print (u.shape, s.shape, vt.shape)"
   ]
  },
  {
   "cell_type": "code",
   "execution_count": 26,
   "metadata": {
    "ExecuteTime": {
     "end_time": "2019-04-12T14:07:54.928624Z",
     "start_time": "2019-04-12T14:07:54.002897Z"
    }
   },
   "outputs": [],
   "source": [
    "# рассчитываем рейтинги по всем фильмам для тестовых пользователей\n",
    "predictions = np.dot(np.dot(u[enc_user.transform(list(test_users))], s_matrix), vt)"
   ]
  },
  {
   "cell_type": "markdown",
   "metadata": {},
   "source": [
    "### Формирование ответов"
   ]
  },
  {
   "cell_type": "code",
   "execution_count": 27,
   "metadata": {
    "ExecuteTime": {
     "end_time": "2019-04-12T14:08:24.766048Z",
     "start_time": "2019-04-12T14:07:57.540894Z"
    }
   },
   "outputs": [],
   "source": [
    "# сортируем рейтинги, определяем 500 фильмов с самыми высокими значениями (для каждого пользователя) \n",
    "predictions_sorted_desc_500 = np.fliplr(np.argsort(predictions, axis=1))[:,:500]"
   ]
  },
  {
   "cell_type": "code",
   "execution_count": 28,
   "metadata": {
    "ExecuteTime": {
     "end_time": "2019-04-12T14:08:51.332390Z",
     "start_time": "2019-04-12T14:08:24.768039Z"
    }
   },
   "outputs": [
    {
     "name": "stderr",
     "output_type": "stream",
     "text": [
      "100%|██████████| 50000/50000 [00:26<00:00, 1882.63it/s]\n"
     ]
    }
   ],
   "source": [
    "# заполняем словарь ID фильмов из топ-500 \n",
    "top500 = {}\n",
    "\n",
    "for i, user_uid in enumerate(tqdm.tqdm(test_users)):\n",
    "    top500[user_uid] = list(enc_movie.inverse_transform(predictions_sorted_desc_500[i]))"
   ]
  },
  {
   "cell_type": "code",
   "execution_count": 29,
   "metadata": {
    "ExecuteTime": {
     "end_time": "2019-04-12T14:09:10.219132Z",
     "start_time": "2019-04-12T14:08:51.334215Z"
    }
   },
   "outputs": [
    {
     "name": "stderr",
     "output_type": "stream",
     "text": [
      "100%|██████████| 9643012/9643012 [00:18<00:00, 513152.85it/s]\n"
     ]
    }
   ],
   "source": [
    "# заполняем словарь уже просмотренных пользователями фильмов\n",
    "filtered_elements = defaultdict(set)\n",
    "\n",
    "for user_uid, element_uid in tqdm.tqdm(transactions.loc[:, ['user_uid', 'element_uid']].values):\n",
    "    if user_uid not in test_users:\n",
    "        continue\n",
    "    filtered_elements[user_uid].add(element_uid)"
   ]
  },
  {
   "cell_type": "code",
   "execution_count": 30,
   "metadata": {
    "ExecuteTime": {
     "end_time": "2019-04-12T14:10:07.086835Z",
     "start_time": "2019-04-12T14:09:10.221047Z"
    }
   },
   "outputs": [
    {
     "name": "stderr",
     "output_type": "stream",
     "text": [
      "100%|██████████| 50000/50000 [00:56<00:00, 879.34it/s]\n"
     ]
    }
   ],
   "source": [
    "# фильтруем просмотренные фильмы, оставляем первые 20\n",
    "result = {}\n",
    "for user_uid in tqdm.tqdm(test_users):\n",
    "    result[user_uid] = [int(x) for x in top500[user_uid] if x not in filtered_elements[user_uid]][:20]"
   ]
  },
  {
   "cell_type": "code",
   "execution_count": 31,
   "metadata": {
    "ExecuteTime": {
     "end_time": "2019-04-12T14:10:08.154377Z",
     "start_time": "2019-04-12T14:10:07.088554Z"
    }
   },
   "outputs": [],
   "source": [
    "# выгружаем ответ в файл\n",
    "with open(os.path.join(PREDICTIONS_PATH, 'svd_by_ratings_xgb_filtered.json'), 'w') as f:\n",
    "    json.dump(result, f)"
   ]
  }
 ],
 "metadata": {
  "hide_input": false,
  "kernelspec": {
   "display_name": "Python 3",
   "language": "python",
   "name": "python3"
  },
  "language_info": {
   "codemirror_mode": {
    "name": "ipython",
    "version": 3
   },
   "file_extension": ".py",
   "mimetype": "text/x-python",
   "name": "python",
   "nbconvert_exporter": "python",
   "pygments_lexer": "ipython3",
   "version": "3.5.2"
  },
  "toc": {
   "base_numbering": 1,
   "nav_menu": {},
   "number_sections": true,
   "sideBar": true,
   "skip_h1_title": false,
   "title_cell": "Table of Contents",
   "title_sidebar": "Contents",
   "toc_cell": false,
   "toc_position": {},
   "toc_section_display": true,
   "toc_window_display": false
  }
 },
 "nbformat": 4,
 "nbformat_minor": 2
}
